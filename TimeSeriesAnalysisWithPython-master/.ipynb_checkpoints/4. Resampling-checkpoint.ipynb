{
 "cells": [
  {
   "cell_type": "code",
   "execution_count": 2,
   "metadata": {
    "collapsed": true
   },
   "outputs": [],
   "source": [
    "import pandas as pd\n",
    "import numpy as np"
   ]
  },
  {
   "cell_type": "code",
   "execution_count": 3,
   "metadata": {},
   "outputs": [],
   "source": [
    "rng = pd.date_range('1/1/2011', periods=72, freq='H')\n",
    "ts = pd.Series(np.random.randn(len(rng)), index=rng)"
   ]
  },
  {
   "cell_type": "code",
   "execution_count": 4,
   "metadata": {
    "collapsed": true
   },
   "outputs": [],
   "source": [
    "converted = ts.asfreq('45Min', method='pad')"
   ]
  },
  {
   "cell_type": "code",
   "execution_count": 6,
   "metadata": {},
   "outputs": [
    {
     "name": "stdout",
     "output_type": "stream",
     "text": [
      "72\n",
      "95\n"
     ]
    }
   ],
   "source": [
    "# Does asfreq change the # of rows?\n",
    "print len(ts)\n",
    "print len(converted)"
   ]
  },
  {
   "cell_type": "code",
   "execution_count": null,
   "metadata": {},
   "outputs": [],
   "source": [
    "# What do the different methods do?\n",
    "# method : {‘backfill’, ‘bfill’, ‘pad’, ‘ffill’, None}\n",
    "# pad and ffill use last valid value, backfill and bfill use next valid value"
   ]
  },
  {
   "cell_type": "code",
   "execution_count": null,
   "metadata": {},
   "outputs": [],
   "source": [
    "# Might any of these methods have pitfalls from a logical point of view?\n",
    "# If doing a predictive model, backfill has problems since it uses data from the future to predict the future"
   ]
  },
  {
   "cell_type": "code",
   "execution_count": null,
   "metadata": {
    "collapsed": true
   },
   "outputs": [],
   "source": [
    "# What's the difference between going to a higher frequency and a lower frequency?\n",
    "\n",
    "#Higher frequency will introduce new datapoints, leading to another value simply being copied in\n",
    "#lower frequency will consolidate datapoints, and use an average of the encompassed data"
   ]
  },
  {
   "cell_type": "code",
   "execution_count": 11,
   "metadata": {},
   "outputs": [
    {
     "data": {
      "text/plain": [
       "2011-01-01 00:00:00    1.428641\n",
       "2011-01-01 01:30:00   -1.016468\n",
       "2011-01-01 03:00:00    0.179355\n",
       "2011-01-01 04:30:00   -0.096671\n",
       "2011-01-01 06:00:00    0.900690\n",
       "2011-01-01 07:30:00    0.115755\n",
       "2011-01-01 09:00:00   -0.216825\n",
       "2011-01-01 10:30:00    1.241215\n",
       "2011-01-01 12:00:00   -0.930353\n",
       "2011-01-01 13:30:00    1.690191\n",
       "2011-01-01 15:00:00    1.506990\n",
       "2011-01-01 16:30:00    0.631743\n",
       "2011-01-01 18:00:00   -0.523949\n",
       "2011-01-01 19:30:00    0.736951\n",
       "2011-01-01 21:00:00    0.741245\n",
       "2011-01-01 22:30:00   -0.277362\n",
       "2011-01-02 00:00:00    0.153531\n",
       "2011-01-02 01:30:00    2.205838\n",
       "2011-01-02 03:00:00   -0.029216\n",
       "2011-01-02 04:30:00   -0.263920\n",
       "2011-01-02 06:00:00    0.583380\n",
       "2011-01-02 07:30:00   -0.347201\n",
       "2011-01-02 09:00:00    0.902353\n",
       "2011-01-02 10:30:00   -1.263763\n",
       "2011-01-02 12:00:00   -0.004479\n",
       "2011-01-02 13:30:00    1.531623\n",
       "2011-01-02 15:00:00    1.083375\n",
       "2011-01-02 16:30:00   -1.076834\n",
       "2011-01-02 18:00:00   -0.452008\n",
       "2011-01-02 19:30:00   -0.113746\n",
       "2011-01-02 21:00:00   -0.823339\n",
       "2011-01-02 22:30:00   -1.086306\n",
       "2011-01-03 00:00:00   -1.793759\n",
       "2011-01-03 01:30:00    1.227963\n",
       "2011-01-03 03:00:00    1.114379\n",
       "2011-01-03 04:30:00   -0.171128\n",
       "2011-01-03 06:00:00    0.417414\n",
       "2011-01-03 07:30:00    0.561796\n",
       "2011-01-03 09:00:00   -2.198562\n",
       "2011-01-03 10:30:00    1.003863\n",
       "2011-01-03 12:00:00    0.117844\n",
       "2011-01-03 13:30:00   -0.991291\n",
       "2011-01-03 15:00:00    0.352921\n",
       "2011-01-03 16:30:00   -0.126819\n",
       "2011-01-03 18:00:00    0.854871\n",
       "2011-01-03 19:30:00   -1.055690\n",
       "2011-01-03 21:00:00   -0.432875\n",
       "2011-01-03 22:30:00   -1.064828\n",
       "Freq: 90T, dtype: float64"
      ]
     },
     "execution_count": 11,
     "metadata": {},
     "output_type": "execute_result"
    }
   ],
   "source": [
    "converted = ts.asfreq('90Min', method = 'bfill')\n",
    "converted"
   ]
  },
  {
   "cell_type": "code",
   "execution_count": null,
   "metadata": {
    "collapsed": true
   },
   "outputs": [],
   "source": [
    "# What's different logically about going to a higher frequency vs a lower frequency? \n",
    "# What do you want to do when switching to a lower freqeuncy that is not logical when switching to a higher frequency?"
   ]
  },
  {
   "cell_type": "code",
   "execution_count": 9,
   "metadata": {},
   "outputs": [
    {
     "data": {
      "text/plain": [
       "2011-01-01    4.658416\n",
       "2011-01-02    3.561104\n",
       "2011-01-03   -4.358101\n",
       "Freq: D, dtype: float64"
      ]
     },
     "execution_count": 9,
     "metadata": {},
     "output_type": "execute_result"
    }
   ],
   "source": [
    "ts.resample('D').sum()"
   ]
  },
  {
   "cell_type": "code",
   "execution_count": null,
   "metadata": {
    "collapsed": true
   },
   "outputs": [],
   "source": [
    "# What if you want to downsample and you don't want to ffill or bfill?\n",
    "\n",
    "#method = None"
   ]
  },
  {
   "cell_type": "code",
   "execution_count": null,
   "metadata": {
    "collapsed": true
   },
   "outputs": [],
   "source": [
    "# What is the difference between .resample() and .asfreq()?\n",
    "\n",
    "#.resample creates a resampler object that you can perform some helpful operations on"
   ]
  },
  {
   "cell_type": "code",
   "execution_count": null,
   "metadata": {
    "collapsed": true
   },
   "outputs": [],
   "source": [
    "# What are some special things you can do with .resample() you can't do with .asfreq()?\n",
    "\n",
    "#mean, count, all the usual fun things"
   ]
  },
  {
   "cell_type": "code",
   "execution_count": null,
   "metadata": {
    "collapsed": true
   },
   "outputs": [],
   "source": []
  }
 ],
 "metadata": {
  "kernelspec": {
   "display_name": "Python 2",
   "language": "python",
   "name": "python2"
  },
  "language_info": {
   "codemirror_mode": {
    "name": "ipython",
    "version": 2
   },
   "file_extension": ".py",
   "mimetype": "text/x-python",
   "name": "python",
   "nbconvert_exporter": "python",
   "pygments_lexer": "ipython2",
   "version": "2.7.13"
  }
 },
 "nbformat": 4,
 "nbformat_minor": 1
}
