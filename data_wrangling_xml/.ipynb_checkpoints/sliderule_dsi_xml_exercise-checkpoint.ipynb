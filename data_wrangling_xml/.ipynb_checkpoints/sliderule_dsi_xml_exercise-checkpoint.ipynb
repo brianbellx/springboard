{
 "cells": [
  {
   "cell_type": "markdown",
   "metadata": {},
   "source": [
    "# XML example and exercise\n",
    "****\n",
    "+ study examples of accessing nodes in XML tree structure  \n",
    "+ work on exercise to be completed and submitted\n",
    "****\n",
    "+ reference: https://docs.python.org/2.7/library/xml.etree.elementtree.html\n",
    "+ data source: http://www.dbis.informatik.uni-goettingen.de/Mondial\n",
    "****"
   ]
  },
  {
   "cell_type": "code",
   "execution_count": 1,
   "metadata": {
    "collapsed": true
   },
   "outputs": [],
   "source": [
    "from xml.etree import ElementTree as ET"
   ]
  },
  {
   "cell_type": "code",
   "execution_count": null,
   "metadata": {
    "collapsed": false
   },
   "outputs": [],
   "source": []
  },
  {
   "cell_type": "markdown",
   "metadata": {},
   "source": [
    "## XML example\n",
    "\n",
    "+ for details about tree traversal and iterators, see https://docs.python.org/2.7/library/xml.etree.elementtree.html"
   ]
  },
  {
   "cell_type": "code",
   "execution_count": 2,
   "metadata": {
    "collapsed": false
   },
   "outputs": [],
   "source": [
    "document_tree = ET.parse( './data/mondial_database_less.xml' )"
   ]
  },
  {
   "cell_type": "code",
   "execution_count": 3,
   "metadata": {
    "collapsed": false
   },
   "outputs": [
    {
     "name": "stdout",
     "output_type": "stream",
     "text": [
      "Albania\n",
      "Greece\n",
      "Macedonia\n",
      "Serbia\n",
      "Montenegro\n",
      "Kosovo\n",
      "Andorra\n"
     ]
    }
   ],
   "source": [
    "# print names of all countries\n",
    "for child in document_tree.getroot():\n",
    "    print child.find('name').text"
   ]
  },
  {
   "cell_type": "code",
   "execution_count": 4,
   "metadata": {
    "collapsed": false
   },
   "outputs": [
    {
     "data": {
      "text/plain": [
       "<xml.etree.ElementTree.ElementTree at 0x4bf4eb8>"
      ]
     },
     "execution_count": 4,
     "metadata": {},
     "output_type": "execute_result"
    }
   ],
   "source": [
    "document_tree"
   ]
  },
  {
   "cell_type": "code",
   "execution_count": 5,
   "metadata": {
    "collapsed": false
   },
   "outputs": [
    {
     "name": "stdout",
     "output_type": "stream",
     "text": [
      "* Albania: Tirana, Shkodër, Durrës, Vlorë, Elbasan, Korçë\n",
      "* Greece: Komotini, Kavala, Athina, Peiraias, Peristeri, Acharnes, Patra, Kozani, Kerkyra, Ioannina, Thessaloniki, Iraklio, Chania, Ermoupoli, Rhodes, Tripoli, Lamia, Chalkida, Larissa, Volos, Mytilini, Karyes\n",
      "* Macedonia: Skopje, Kumanovo\n",
      "* Serbia: Beograd, Novi Sad, Niš\n",
      "* Montenegro: Podgorica\n",
      "* Kosovo: Prishtine\n",
      "* Andorra: Andorra la Vella\n"
     ]
    }
   ],
   "source": [
    "# print names of all countries and their cities\n",
    "for element in document_tree.iterfind('country'):\n",
    "    print '* ' + element.find('name').text + ':',\n",
    "    capitals_string = ''\n",
    "    for subelement in element.getiterator('city'):\n",
    "        capitals_string += subelement.find('name').text + ', '\n",
    "    print capitals_string[:-2]"
   ]
  },
  {
   "cell_type": "markdown",
   "metadata": {},
   "source": [
    "****\n",
    "## XML exercise\n",
    "\n",
    "Using data in 'data/mondial_database.xml', the examples above, and refering to https://docs.python.org/2.7/library/xml.etree.elementtree.html, find\n",
    "\n",
    "1. 10 countries with the lowest infant mortality rates\n",
    "2. 10 cities with the largest population\n",
    "3. 10 ethnic groups with the largest overall populations (sum of best/latest estimates over all countries)\n",
    "4. name and country of a) longest river, b) largest lake and c) airport at highest elevation"
   ]
  },
  {
   "cell_type": "code",
   "execution_count": 6,
   "metadata": {
    "collapsed": false
   },
   "outputs": [],
   "source": [
    "document = ET.parse( './data/mondial_database.xml' )"
   ]
  },
  {
   "cell_type": "code",
   "execution_count": 7,
   "metadata": {
    "collapsed": true
   },
   "outputs": [],
   "source": [
    "root = document.getroot()"
   ]
  },
  {
   "cell_type": "code",
   "execution_count": 8,
   "metadata": {
    "collapsed": false,
    "scrolled": false
   },
   "outputs": [
    {
     "name": "stdout",
     "output_type": "stream",
     "text": [
      "Monaco: 1.81\n",
      "Japan: 2.13\n",
      "Norway: 2.48\n",
      "Bermuda: 2.48\n",
      "Singapore: 2.53\n",
      "Sweden: 2.6\n",
      "Czech Republic: 2.63\n",
      "Hong Kong: 2.73\n",
      "Macao: 3.13\n",
      "Iceland: 3.15\n"
     ]
    }
   ],
   "source": [
    "countries = root.findall('country') # create a list of countries separate from the main tree\n",
    "topop = []\n",
    "for index, child in enumerate(countries): # collects the indicies of countries with no infant mortality data\n",
    "    #print child.find('name').text\n",
    "    if child.find('infant_mortality') == None:\n",
    "        topop.append(index)\n",
    "        \n",
    "        \n",
    "for i in sorted(topop, reverse=True): #removes the countries with no infant mortality data\n",
    "    countries.pop(i)\n",
    "\n",
    "\n",
    "countries = sorted(countries, key=lambda child: float(child.find('infant_mortality').text)) \n",
    "\n",
    "for j in range(0,10):\n",
    "    print countries[j].find('name').text + ': ' + countries[j].find('infant_mortality').text\n"
   ]
  },
  {
   "cell_type": "code",
   "execution_count": 9,
   "metadata": {
    "collapsed": false,
    "scrolled": false
   },
   "outputs": [
    {
     "name": "stdout",
     "output_type": "stream",
     "text": [
      "Shanghai: 22315474\n",
      "Istanbul: 13710512\n",
      "Delhi: 12877470\n",
      "Mumbai: 12442373\n",
      "Moskva: 11979529\n",
      "Beijing: 11716620\n",
      "São Paulo: 11152344\n",
      "Tianjin: 11090314\n",
      "Guangzhou: 11071424\n",
      "Shenzhen: 10358381\n"
     ]
    }
   ],
   "source": [
    "cities = []\n",
    "\n",
    "for city in root.iter('city'): #for every city\n",
    "    peeps = 0\n",
    "    for ppl in city.iter('population'): # find the highest population figure\n",
    "        if int(ppl.text) > peeps:\n",
    "            peeps = int(ppl.text)\n",
    "    if peeps != 0: #only if the for loop found population data for the city\n",
    "        cities.append([city.find('name').text, peeps]) # add the city name a population to a list of cities\n",
    "\n",
    "\n",
    "cities = sorted(cities, key = lambda cities: cities[1], reverse = True) # sort decending by population\n",
    "for j in range(0,10):\n",
    "    print cities[j][0] + ': ' + str(cities[j][1])"
   ]
  },
  {
   "cell_type": "code",
   "execution_count": 10,
   "metadata": {
    "collapsed": false
   },
   "outputs": [
    {
     "name": "stdout",
     "output_type": "stream",
     "text": [
      "Han Chinese: 1245058800\n",
      "Indo-Aryan: 871815583\n",
      "European: 494872201\n",
      "African: 318325104\n",
      "Dravidian: 302713744\n",
      "Mestizo: 157734349\n",
      "Bengali: 146776916\n",
      "Russian: 131856989\n",
      "Japanese: 126534212\n",
      "Malay: 121993548\n"
     ]
    }
   ],
   "source": [
    "ethgrp = {}\n",
    "\n",
    "for country in root.iter('country'):\n",
    "\n",
    "    year = 0\n",
    "    for ppl in country.findall('population'): #find the latest population figure.  \n",
    "        if int(ppl.attrib['year']) > year:\n",
    "            year = int(ppl.attrib['year'])\n",
    "            yearpop = ppl\n",
    "\n",
    "    for egp in country.findall('ethnicgroup'): #for each ethnic group\n",
    "        if egp.text in ethgrp: #if the ethnic group is already represented in ethgrp\n",
    "            ethgrp[egp.text] += int(float(egp.attrib['percentage'])/ 100 *int(yearpop.text)) # add (country population) * % to existing count\n",
    "        else:\n",
    "            ethgrp[egp.text] = int(float(egp.attrib['percentage']) / 100 *int(yearpop.text)) #create a new entry for the ethnic group\n",
    "\n",
    "eths = sorted(ethgrp.items(), key = lambda ethgrp: ethgrp[1], reverse = True) #decending sort based on population\n",
    "\n",
    "for j in range(0,10):\n",
    "    print eths[j][0] + ': ' + str(eths[j][1])\n",
    "    \n",
    "#small problem with this output, overlapping sets and subsets aren't handled.  Han Chinese and Chinese are separate.\n",
    "#European and French/Italian/etc are separate.  In a larger project I would probably want to address that."
   ]
  },
  {
   "cell_type": "code",
   "execution_count": 11,
   "metadata": {
    "collapsed": false
   },
   "outputs": [
    {
     "name": "stdout",
     "output_type": "stream",
     "text": [
      "Longest River: Amazonas 6448 BR\n",
      "Biggest Lake: Caspian Sea 386400 R\n",
      "Highest Airport: El Alto Intl 4063 BOL\n"
     ]
    }
   ],
   "source": [
    "length = 0\n",
    "area = 0\n",
    "elevation = 0\n",
    "for river in root.findall('river'):\n",
    "    if river.find('length') != None:\n",
    "        if float(river.find('length').text) > length:\n",
    "            length = float(river.find('length').text)\n",
    "            longestriver = river\n",
    "            \n",
    "for lake in root.findall('lake'):\n",
    "    if lake.find('area') != None:\n",
    "        if float(lake.find('area').text) > area:\n",
    "            area = float(lake.find('area').text)\n",
    "            biggestlake = lake\n",
    "\n",
    "for air in root.findall('airport'):\n",
    "    if air.find('elevation').text != None:\n",
    "        if int(air.find('elevation').text) > elevation:\n",
    "            elevation = float(air.find('elevation').text)\n",
    "            highestport = air\n",
    "            \n",
    "            \n",
    "print('Longest River: ' + longestriver.find('name').text + ' ' + longestriver.find('length').text + ' ' +\n",
    "        longestriver.find('estuary').attrib['country'])\n",
    "\n",
    "print('Biggest Lake: ' + biggestlake.find('name').text + ' ' + biggestlake.find('area').text + ' ' +\n",
    "        biggestlake.find('located').attrib['country'])\n",
    "\n",
    "print('Highest Airport: ' + highestport.find('name').text + ' ' + highestport.find('elevation').text + ' ' +\n",
    "        highestport.attrib['country'])\n",
    "\n",
    "#for each category, find the largest length/area/elevation listed, save a record of the element associated with it, and print"
   ]
  },
  {
   "cell_type": "code",
   "execution_count": 12,
   "metadata": {
    "collapsed": false
   },
   "outputs": [
    {
     "data": {
      "text/plain": [
       "True"
      ]
     },
     "execution_count": 12,
     "metadata": {},
     "output_type": "execute_result"
    }
   ],
   "source": [
    "1.1>1"
   ]
  },
  {
   "cell_type": "code",
   "execution_count": null,
   "metadata": {
    "collapsed": true
   },
   "outputs": [],
   "source": []
  }
 ],
 "metadata": {
  "kernelspec": {
   "display_name": "Python 2",
   "language": "python",
   "name": "python2"
  },
  "language_info": {
   "codemirror_mode": {
    "name": "ipython",
    "version": 2
   },
   "file_extension": ".py",
   "mimetype": "text/x-python",
   "name": "python",
   "nbconvert_exporter": "python",
   "pygments_lexer": "ipython2",
   "version": "2.7.13"
  }
 },
 "nbformat": 4,
 "nbformat_minor": 0
}
